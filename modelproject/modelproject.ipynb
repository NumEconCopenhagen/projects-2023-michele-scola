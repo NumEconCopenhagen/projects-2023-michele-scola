{
 "cells": [
  {
   "attachments": {},
   "cell_type": "markdown",
   "metadata": {},
   "source": [
    "# STACKELBERG COMPETITION"
   ]
  },
  {
   "cell_type": "markdown",
   "metadata": {},
   "source": [
    "Imports and set magics:"
   ]
  },
  {
   "cell_type": "code",
   "execution_count": 18,
   "metadata": {},
   "outputs": [
    {
     "name": "stdout",
     "output_type": "stream",
     "text": [
      "The autoreload extension is already loaded. To reload it, use:\n",
      "  %reload_ext autoreload\n"
     ]
    }
   ],
   "source": [
    "import numpy as np\n",
    "from scipy import optimize\n",
    "import sympy as sm\n",
    "import ipywidgets as widgets\n",
    "import matplotlib.pyplot as plt\n",
    "\n",
    "# autoreload modules when code is run\n",
    "%load_ext autoreload\n",
    "%autoreload 2\n",
    "\n",
    "# local modules\n",
    "from modelproject import *"
   ]
  },
  {
   "cell_type": "markdown",
   "metadata": {},
   "source": [
    "# Model description"
   ]
  },
  {
   "attachments": {},
   "cell_type": "markdown",
   "metadata": {},
   "source": [
    "The Stackelberg model is a game-theoretic model used to analyze strategic interactions between firms in a market. In this model, one firm (the leader) chooses its output level before the other firms (the followers) make their decisions. The followers then choose their output levels taking into account the leader's decision. This model is often used in oligopoly markets where a small number of firms have significant market power."
   ]
  },
  {
   "attachments": {},
   "cell_type": "markdown",
   "metadata": {},
   "source": [
    "In this project I will focus on a duopoly model."
   ]
  },
  {
   "attachments": {},
   "cell_type": "markdown",
   "metadata": {},
   "source": [
    "**Assumptions:**\n",
    "* Fixed number of firms which have market power (two firms)\n",
    "* Firms produce perfect substitutes goods\n",
    "* Firms compete in terms of quantities\n",
    "* Firms decide sequentially on the output tyhey produce. The model consists in two periods. In the first one, a firm (leader) decides its output level. In the second period, the second firm (follower) chooses its output level depending on the leader's decision.\n",
    "* The follower decides strategically on the assumption that the leader will not change its output and in order to maximize its profit\n",
    "* Firms do not cooperate"
   ]
  },
  {
   "attachments": {},
   "cell_type": "markdown",
   "metadata": {},
   "source": [
    "**Firm's revenue:**\n",
    "$$\n",
    "\\begin{aligned}\n",
    "r_{i}=p(Q)q_{i}=(a-b(Q))q_{i}\n",
    "\\end{aligned}\n",
    "$$"
   ]
  },
  {
   "attachments": {},
   "cell_type": "markdown",
   "metadata": {},
   "source": [
    "**Firm's maximization problem:**\n",
    "$$\n",
    "\\begin{aligned}\n",
    "\\max_{q_{i}}\\Pi_{1}=p(Q)q_{i}-cq_{i}=(a-b(Q)-c)q_{i}\n",
    "\\end{aligned}\n",
    "$$"
   ]
  },
  {
   "cell_type": "markdown",
   "metadata": {},
   "source": [
    "## Analytical solution"
   ]
  },
  {
   "attachments": {},
   "cell_type": "markdown",
   "metadata": {},
   "source": [
    "To find the Nash equilibrium of this sequential game, we need to use backward induction. That is, we first solve the optimization problem for the follower in the second period, and with this information determine the optimal choice by the leader in the first period.\n",
    "\n",
    "Second Period (Firm 2):\n",
    "* derive firm 2 profit function wrt $q_{2}$\n",
    "* solve for $q_{2}$ in order to find Cournot's reaction function\n",
    "\n",
    "First Period (Firm 1):\n",
    "* derive firm 1 profit function wrt $q_{1}$\n",
    "* Insert Cournot's reaction function\n",
    "* solve for $q_{1}$\n",
    "* Insert $q_{1}$ into Cournot's reaction function in order to find $q_{2}$"
   ]
  },
  {
   "cell_type": "code",
   "execution_count": 19,
   "metadata": {},
   "outputs": [],
   "source": [
    "#symbols\n",
    "q1 = sm.symbols(\"q_1\")\n",
    "q2 = sm.symbols(\"q_2\")\n",
    "a = sm.symbols(\"a\")\n",
    "b = sm.symbols(\"b\")\n",
    "c = sm.symbols(\"c\")\n",
    "p = a - (b*q1+b*q2)"
   ]
  },
  {
   "attachments": {},
   "cell_type": "markdown",
   "metadata": {},
   "source": [
    "**Second Period:**"
   ]
  },
  {
   "cell_type": "code",
   "execution_count": 20,
   "metadata": {},
   "outputs": [
    {
     "data": {
      "text/latex": [
       "$\\displaystyle q_{2} \\left(a - b q_{1} - b q_{2} - c\\right)$"
      ],
      "text/plain": [
       "q_2*(a - b*q_1 - b*q_2 - c)"
      ]
     },
     "execution_count": 20,
     "metadata": {},
     "output_type": "execute_result"
    }
   ],
   "source": [
    "obj2 = (p - c)*q2 #define follower firm's objective function\n",
    "obj2"
   ]
  },
  {
   "cell_type": "code",
   "execution_count": 21,
   "metadata": {},
   "outputs": [
    {
     "data": {
      "text/latex": [
       "$\\displaystyle a - b q_{1} - 2 b q_{2} - c$"
      ],
      "text/plain": [
       "a - b*q_1 - 2*b*q_2 - c"
      ]
     },
     "execution_count": 21,
     "metadata": {},
     "output_type": "execute_result"
    }
   ],
   "source": [
    "foc2 = sm.diff(obj2,q2) #derive follower's firm's profit function wrt q2\n",
    "foc2"
   ]
  },
  {
   "cell_type": "code",
   "execution_count": 22,
   "metadata": {},
   "outputs": [
    {
     "data": {
      "text/latex": [
       "$\\displaystyle \\frac{a - b q_{1} - c}{2 b}$"
      ],
      "text/plain": [
       "(a - b*q_1 - c)/(2*b)"
      ]
     },
     "execution_count": 22,
     "metadata": {},
     "output_type": "execute_result"
    }
   ],
   "source": [
    "crf = sm.solve(sm.Eq(foc2,0),q2) #solve for q2\n",
    "crf = crf[0]\n",
    "crf"
   ]
  },
  {
   "attachments": {},
   "cell_type": "markdown",
   "metadata": {},
   "source": [
    "**First Period:**"
   ]
  },
  {
   "cell_type": "code",
   "execution_count": 23,
   "metadata": {},
   "outputs": [
    {
     "data": {
      "text/latex": [
       "$\\displaystyle q_{1} \\left(\\frac{a}{2} - \\frac{b q_{1}}{2} - \\frac{c}{2}\\right)$"
      ],
      "text/plain": [
       "q_1*(a/2 - b*q_1/2 - c/2)"
      ]
     },
     "execution_count": 23,
     "metadata": {},
     "output_type": "execute_result"
    }
   ],
   "source": [
    "obj1 = (p-c)*q1 #define leader firm's objective function\n",
    "obj1 = obj1.subs(q2,crf) # substitute q2 with Cournot's reaction function\n",
    "obj1"
   ]
  },
  {
   "cell_type": "code",
   "execution_count": 24,
   "metadata": {},
   "outputs": [
    {
     "data": {
      "text/latex": [
       "$\\displaystyle \\frac{a}{2} - b q_{1} - \\frac{c}{2}$"
      ],
      "text/plain": [
       "a/2 - b*q_1 - c/2"
      ]
     },
     "execution_count": 24,
     "metadata": {},
     "output_type": "execute_result"
    }
   ],
   "source": [
    "foc1 = sm.diff(obj1,q1) #derive leader's firm's profit function wrt q1\n",
    "foc1"
   ]
  },
  {
   "cell_type": "code",
   "execution_count": 25,
   "metadata": {},
   "outputs": [
    {
     "data": {
      "text/latex": [
       "$\\displaystyle \\frac{a - c}{2 b}$"
      ],
      "text/plain": [
       "(a - c)/(2*b)"
      ]
     },
     "execution_count": 25,
     "metadata": {},
     "output_type": "execute_result"
    }
   ],
   "source": [
    "q1_star = sm.solve(sm.Eq(foc1,0),q1) #solve for q1\n",
    "q1_star = q1_star[0]\n",
    "q1_star"
   ]
  },
  {
   "cell_type": "code",
   "execution_count": 26,
   "metadata": {},
   "outputs": [
    {
     "data": {
      "text/latex": [
       "$\\displaystyle \\frac{\\frac{a}{2} - \\frac{c}{2}}{2 b}$"
      ],
      "text/plain": [
       "(a/2 - c/2)/(2*b)"
      ]
     },
     "execution_count": 26,
     "metadata": {},
     "output_type": "execute_result"
    }
   ],
   "source": [
    "q2_star = crf.subs(q1,q1_star) #insert q1 into Cournot reaction function\n",
    "q2_star"
   ]
  },
  {
   "cell_type": "code",
   "execution_count": 27,
   "metadata": {},
   "outputs": [
    {
     "name": "stdout",
     "output_type": "stream",
     "text": [
      "Leader firm's production is (a - c)/(2*b)\n",
      "Follower firm's production is (a/2 - c/2)/(2*b)\n"
     ]
    }
   ],
   "source": [
    "print(f\"Leader firm's production is {q1_star}\") #printing productions\n",
    "print(f\"Follower firm's production is {q2_star}\")"
   ]
  },
  {
   "cell_type": "code",
   "execution_count": 28,
   "metadata": {},
   "outputs": [
    {
     "name": "stdout",
     "output_type": "stream",
     "text": [
      "Leader firm's profit is (a/4 - c/4)*(a - c)/(2*b)\n",
      "Follower firm's profit is (a/4 - c/4)*(a/2 - c/2)/(2*b)\n"
     ]
    }
   ],
   "source": [
    "p = p.subs(q1,q1_star) #substituting optimal production levels into price function\n",
    "p = p.subs(q2,q2_star)\n",
    "pi_1 = (p - c)*q1_star #Calculatiung optimal profits\n",
    "pi_2 = (p - c)*q2_star\n",
    "print(f\"Leader firm's profit is {pi_1}\") #printing profits\n",
    "print(f\"Follower firm's profit is {pi_2}\")"
   ]
  },
  {
   "attachments": {},
   "cell_type": "markdown",
   "metadata": {},
   "source": [
    "**PARAMETER TEST**"
   ]
  },
  {
   "cell_type": "code",
   "execution_count": 29,
   "metadata": {},
   "outputs": [
    {
     "name": "stdout",
     "output_type": "stream",
     "text": [
      "A=100, B=2, C=5:\n",
      "q1 = 23.75\n",
      "q2 = 11.875\n",
      "pi1 = 564.0625\n",
      "pi2 = 282.03125\n"
     ]
    }
   ],
   "source": [
    "q1_func = sm.lambdify(args = (a,b,c), expr = q1_star) #characterizing solutions as functions\n",
    "q2_func = sm.lambdify(args = (a,b,c), expr = q2_star)\n",
    "pi1_func = sm.lambdify(args = (a,b,c), expr = pi_1)\n",
    "pi2_func = sm.lambdify(args = (a,b,c), expr = pi_2)\n",
    "a=100 #setting parameters\n",
    "b=2\n",
    "c=5\n",
    "\n",
    "#printing solutions\n",
    "print('A=100, B=2, C=5:') \n",
    "print(f'q1 = {q1_func(a,b,c)}')\n",
    "print(f'q2 = {q2_func(a,b,c)}')\n",
    "print(f'pi1 = {pi1_func(a,b,c)}')\n",
    "print(f'pi2 = {pi2_func(a,b,c)}')"
   ]
  },
  {
   "attachments": {},
   "cell_type": "markdown",
   "metadata": {},
   "source": [
    "**note that leader firm's production and profits will be greater then followers. This is because of the first move advantage.**"
   ]
  },
  {
   "cell_type": "markdown",
   "metadata": {},
   "source": [
    "## Numerical solution"
   ]
  },
  {
   "cell_type": "code",
   "execution_count": 30,
   "metadata": {},
   "outputs": [],
   "source": [
    "a=100 #setting parameters\n",
    "b=2\n",
    "c=5"
   ]
  },
  {
   "cell_type": "code",
   "execution_count": 31,
   "metadata": {},
   "outputs": [
    {
     "name": "stdout",
     "output_type": "stream",
     "text": [
      "Leader production:[23.74473977]\n",
      "Follower production:11.877630175047425\n",
      "Leader optimal profit:[564.06246954]\n",
      "Follower optimal profit:[282.15619436]\n"
     ]
    }
   ],
   "source": [
    "sol_leader, sol_follower = leader_opt(a,b,c) #solving the model calling leader_opt() function which can be find in the .py file\n",
    "#printing results\n",
    "print(f'Leader production:{sol_leader}')\n",
    "print(f'Follower production:{sol_follower}')\n",
    "print(f'Leader optimal profit:{profits1_opt(a,b,c)}')\n",
    "print(f'Follower optimal profit:{profits2_opt(a,b,c)}')"
   ]
  },
  {
   "cell_type": "code",
   "execution_count": 32,
   "metadata": {},
   "outputs": [
    {
     "data": {
      "image/png": "[encoded data removed]",
      "text/plain": [
       "<Figure size 640x480 with 1 Axes>"
      ]
     },
     "metadata": {},
     "output_type": "display_data"
    }
   ],
   "source": [
    "xs = np.linspace(0.1,30,100) #plotting a figure showing how follower production change with different level of leader's production\n",
    "x_follow = np.empty(100)\n",
    "\n",
    "for i,x in enumerate(xs):\n",
    "    x_follow[i] = follower_opt(x,a,b,c)\n",
    "\n",
    "fig = plt.figure()\n",
    "plt.plot(xs,x_follow)\n",
    "plt.xlabel(\"Leader production\")\n",
    "plt.ylabel(\"Follower production\")\n",
    "plt.title(\"Follower production against Leader production\")\n",
    "plt.show()"
   ]
  },
  {
   "attachments": {},
   "cell_type": "markdown",
   "metadata": {},
   "source": [
    "The greater the leader's production is, the smaller follower'production level will be."
   ]
  },
  {
   "cell_type": "markdown",
   "metadata": {},
   "source": [
    "# Further analysis"
   ]
  },
  {
   "attachments": {},
   "cell_type": "markdown",
   "metadata": {},
   "source": [
    "**PRODUCTION AND PROFITS' CHANGES WITH DIFFERENT PARAMETER'S VALUES**"
   ]
  },
  {
   "cell_type": "code",
   "execution_count": 33,
   "metadata": {},
   "outputs": [
    {
     "data": {
      "application/vnd.jupyter.widget-view+json": {
       "model_id": "c1bab26c288941cb926ca89deb6a057d",
       "version_major": 2,
       "version_minor": 0
      },
      "text/plain": [
       "interactive(children=(FloatSlider(value=2.0, description='b', max=15.0, min=1.0, step=1.0), FloatSlider(value=…"
      ]
     },
     "metadata": {},
     "output_type": "display_data"
    },
    {
     "data": {
      "text/plain": [
       "<function __main__.figure(b, c)>"
      ]
     },
     "execution_count": 33,
     "metadata": {},
     "output_type": "execute_result"
    }
   ],
   "source": [
    "def lists(a1,a2,b,c): #solving the model changing a-parameter in the range a1-a2 and saving results in lists\n",
    "    q1_list = []\n",
    "    q2_list = []\n",
    "    pi1_list = []\n",
    "    pi2_list = []\n",
    "    a_list = []\n",
    "\n",
    "    for a in range(a1,a2):\n",
    "        a_list.append(a)\n",
    "        q1_list.append(q1_func(a,b,c))\n",
    "        q2_list.append(q2_func(a,b,c))\n",
    "        pi1_list.append(pi1_func(a,b,c))\n",
    "        pi2_list.append(pi2_func(a,b,c))\n",
    "    return a_list,q1_list,q2_list,pi1_list,pi2_list\n",
    "\n",
    "def figure(b,c): #plotting function\n",
    "    a1=1\n",
    "    a2=80\n",
    "    a_list,q1_list,q2_list,pi1_list,pi2_list = lists(a1,a2,b,c)\n",
    "\n",
    "    fig1 = plt.figure()\n",
    "    ax1 = fig1.add_subplot(1,1,1, label=\"ax1\")\n",
    "    plt.plot(a_list, q1_list, label=\"Leader Frim\")\n",
    "    plt.plot(a_list, q2_list, \"--\", label=\"Follower Firm\")\n",
    "    plt.legend()\n",
    "    plt.xlabel(\"a-parameter\")\n",
    "    plt.ylabel(\"q, goods produced\")\n",
    "    plt.ylim(0,6)\n",
    "    plt.grid(linestyle=\"--\", linewidth=\"0.5\")\n",
    "    plt.title(\"Optimal production as a function of a\")\n",
    "\n",
    "    fig2 = plt.figure()\n",
    "    ax2 = fig2.add_subplot(1,1,1, label=\"ax2\")\n",
    "    plt.plot(a_list, pi1_list, label=\"Leader Firm\")\n",
    "    plt.plot(a_list, pi2_list, \"--\", label=\"Follower Firm\")\n",
    "    plt.legend()\n",
    "    plt.xlabel(\"a-parameter\")\n",
    "    plt.ylabel(\"pi, profits\")\n",
    "    plt.ylim(0,32)\n",
    "    plt.grid(linestyle=\"--\", linewidth=\"0.5\")\n",
    "    plt.title(\"Optimal profit as a function of a\")\n",
    "    #Show plots\n",
    "    plt.show()\n",
    "\n",
    "#creating silider widget for b a c parameters\n",
    "slider1 =widgets.FloatSlider(min=1.0, max=15.0, step=1, value=2.0)\n",
    "slider2 =widgets.FloatSlider(min=1.0, max=20.0, step=1, value=5.0)\n",
    "widgets.interact(figure,b=slider1, c=slider2) #plotting"
   ]
  },
  {
   "attachments": {},
   "cell_type": "markdown",
   "metadata": {},
   "source": [
    "**Even in this graphs we can note that leader firm's production and profits will be greater then followers due to the first move advantage.**"
   ]
  },
  {
   "attachments": {},
   "cell_type": "markdown",
   "metadata": {},
   "source": [
    "The greater **a** is the greater production level and profits will be. Greater values of **b** reduce both production and profits. Since **c** is the marginal cost, bigger values of the parameters will return smaller values of production and profit."
   ]
  },
  {
   "attachments": {},
   "cell_type": "markdown",
   "metadata": {},
   "source": [
    "**SOLVING STACKELBERG MODEL WITH 3 FIRMS**"
   ]
  },
  {
   "attachments": {},
   "cell_type": "markdown",
   "metadata": {},
   "source": [
    "Now I solve Satckelberg model with three firms. In this case the leader will choose first its optimal production level knowing how the two followers will react. The first follower will choose its production level after the leader knowing how the last follower will react. Lastly, follower number 2 will choose its production level maximizing profit."
   ]
  },
  {
   "cell_type": "code",
   "execution_count": 34,
   "metadata": {},
   "outputs": [
    {
     "name": "stdout",
     "output_type": "stream",
     "text": [
      "Leader production:21.108532814838345\n",
      "Follower 1 production:10.556586914062503\n",
      "Follower 2 production:9.722866665738595\n"
     ]
    }
   ],
   "source": [
    "a=100\n",
    "b=2\n",
    "c=5\n",
    "_sol_leader, sol_follower1, sol_follower2 = leader_opt_(a,b,c) #I solve the 3-firms Stackelberg model calling leader_opt_() function which can be found in the .py file\n",
    "#printing\n",
    "print(f'Leader production:{_sol_leader}')\n",
    "print(f'Follower 1 production:{sol_follower1}')\n",
    "print(f'Follower 2 production:{sol_follower2}')"
   ]
  },
  {
   "attachments": {},
   "cell_type": "markdown",
   "metadata": {},
   "source": [
    "Due to the first move advantage we see that laeder production will be greater than follower 1's production and follower 1's production will be greater than follower 2's production"
   ]
  },
  {
   "cell_type": "markdown",
   "metadata": {},
   "source": [
    "# Conclusion"
   ]
  },
  {
   "attachments": {},
   "cell_type": "markdown",
   "metadata": {},
   "source": [
    "I solved Stackelberg model in the following ways:\n",
    "* Analytically (with partameter test)\n",
    "* Numerically (duopoly)\n",
    "* Numerically (3-firms)"
   ]
  }
 ],
 "metadata": {
  "kernelspec": {
   "display_name": "base",
   "language": "python",
   "name": "python3"
  },
  "language_info": {
   "codemirror_mode": {
    "name": "ipython",
    "version": 3
   },
   "file_extension": ".py",
   "mimetype": "text/x-python",
   "name": "python",
   "nbconvert_exporter": "python",
   "pygments_lexer": "ipython3",
   "version": "3.9.13"
  },
  "toc-autonumbering": true,
  "vscode": {
   "interpreter": {
    "hash": "fb9f166c348ac3d2be8bd21c1ac7e515170b7a178cb1a2b5b08aa2ce2a3ddf1f"
   }
  }
 },
 "nbformat": 4,
 "nbformat_minor": 4
}
